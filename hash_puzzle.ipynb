{
 "cells": [
  {
   "cell_type": "code",
   "execution_count": 1,
   "metadata": {
    "collapsed": false
   },
   "outputs": [],
   "source": [
    "from hashlib import sha256\n",
    "from itertools import permutations"
   ]
  },
  {
   "cell_type": "code",
   "execution_count": 2,
   "metadata": {
    "collapsed": true
   },
   "outputs": [],
   "source": [
    "materials = [\"じゃがいも\",\"ぎゅうにく\",\"にんじん\",\"たまねぎ\",\"しょうゆ\",\"みりん\",\"さとう\"]\n",
    "hash_value = \"E4CBC1F45125B84689192B8275765870DA869A0B291EECB2614E00045E910445\""
   ]
  },
  {
   "cell_type": "code",
   "execution_count": 3,
   "metadata": {
    "collapsed": false
   },
   "outputs": [],
   "source": [
    "answer = None\n",
    "for order in permutations(materials):\n",
    "    text = \"\".join(order)\n",
    "    candidate = sha256(text.encode()).hexdigest().upper()\n",
    "    if candidate == hash_value:\n",
    "        print(text,candidate)\n",
    "        break"
   ]
  },
  {
   "cell_type": "code",
   "execution_count": 4,
   "metadata": {
    "collapsed": true
   },
   "outputs": [],
   "source": [
    "hashed_materials = [sha256(material.encode()).hexdigest().upper() for material in materials]"
   ]
  },
  {
   "cell_type": "code",
   "execution_count": 6,
   "metadata": {
    "collapsed": false
   },
   "outputs": [],
   "source": [
    "answer = None\n",
    "for order in permutations(hashed_materials):\n",
    "    text = \"\".join(order)\n",
    "    candidate = hash_loop(text)\n",
    "    if candidate:\n",
    "        print(text,candidate)\n",
    "        break"
   ]
  },
  {
   "cell_type": "code",
   "execution_count": null,
   "metadata": {
    "collapsed": false
   },
   "outputs": [],
   "source": []
  },
  {
   "cell_type": "code",
   "execution_count": 7,
   "metadata": {
    "collapsed": false
   },
   "outputs": [],
   "source": [
    "def hash_loop(candidate,i=0):\n",
    "    if i == 10:\n",
    "        return False\n",
    "    candidate = sha256(candidate.encode()).hexdigest().upper()\n",
    "    if candidate == hash_value:\n",
    "        return candidate\n",
    "    else:\n",
    "        i += 1\n",
    "        return hash_loop(candidate,i)\n",
    "            "
   ]
  },
  {
   "cell_type": "code",
   "execution_count": 8,
   "metadata": {
    "collapsed": false
   },
   "outputs": [],
   "source": [
    "answer = None\n",
    "for order in permutations(hashed_materials):\n",
    "    text = \"\".join(order)\n",
    "    candidate = hash_loop(text)\n",
    "    if candidate:\n",
    "        print(text,candidate)\n",
    "        break"
   ]
  }
 ],
 "metadata": {
  "kernelspec": {
   "display_name": "Python 3",
   "language": "python",
   "name": "python3"
  },
  "language_info": {
   "codemirror_mode": {
    "name": "ipython",
    "version": 3
   },
   "file_extension": ".py",
   "mimetype": "text/x-python",
   "name": "python",
   "nbconvert_exporter": "python",
   "pygments_lexer": "ipython3",
   "version": "3.5.2"
  }
 },
 "nbformat": 4,
 "nbformat_minor": 2
}
