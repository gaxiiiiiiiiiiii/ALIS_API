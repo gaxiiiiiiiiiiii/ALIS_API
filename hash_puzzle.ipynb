{
 "cells": [
  {
   "cell_type": "code",
   "execution_count": 1,
   "metadata": {
    "collapsed": false
   },
   "outputs": [],
   "source": [
    "from hashlib import sha256\n",
    "from itertools import permutations"
   ]
  },
  {
   "cell_type": "code",
   "execution_count": 2,
   "metadata": {
    "collapsed": true
   },
   "outputs": [],
   "source": [
    "materials = [\"じゃがいも\",\"ぎゅうにく\",\"にんじん\",\"たまねぎ\",\"しょうゆ\",\"みりん\",\"さとう\"]\n",
    "hash_value = \"E4CBC1F45125B84689192B8275765870DA869A0B291EECB2614E00045E910445\"\n",
    "hashed_materials = [sha256(material.encode()).hexdigest().upper() for material in materials]"
   ]
  },
  {
   "cell_type": "code",
   "execution_count": 3,
   "metadata": {
    "collapsed": false
   },
   "outputs": [],
   "source": [
    "# 下準備あり、ループあり、分割あり\n",
    "answer = None\n",
    "for order in permutations(hashed_materials):\n",
    "    for i in range(1,len(order)):\n",
    "        head = \"\".join(order[:i])\n",
    "        tail = \"\".join(order[i:])\n",
    "        hashed_head = sha256(head.encode()).hexdigest().upper()\n",
    "        hashed_tail = sha256(tail.encode()).hexdigest().upper()\n",
    "        text  = hashed_head + hashed_tail\n",
    "        candidate = sha256(text.encode()).hexdigest().upper()\n",
    "        if candidate == hash_value:\n",
    "            answer  = (order,i)\n",
    "                    "
   ]
  },
  {
   "cell_type": "code",
   "execution_count": 4,
   "metadata": {
    "collapsed": false
   },
   "outputs": [],
   "source": [
    "order, i = answer"
   ]
  },
  {
   "cell_type": "code",
   "execution_count": 5,
   "metadata": {
    "collapsed": true
   },
   "outputs": [],
   "source": [
    "hashToMaterials = dict()\n",
    "for h,v in zip(hashed_materials,materials):\n",
    "    hashToMaterials[h] = v"
   ]
  },
  {
   "cell_type": "code",
   "execution_count": 6,
   "metadata": {
    "collapsed": true
   },
   "outputs": [],
   "source": [
    "hashed_head = order[:i]\n",
    "hashed_tail = order[i:]"
   ]
  },
  {
   "cell_type": "code",
   "execution_count": 7,
   "metadata": {
    "collapsed": false
   },
   "outputs": [],
   "source": [
    "head = [hashToMaterials[value] for value in hashed_head]\n",
    "tail = [hashToMaterials[value] for value in hashed_tail]"
   ]
  },
  {
   "cell_type": "code",
   "execution_count": 8,
   "metadata": {
    "collapsed": false
   },
   "outputs": [
    {
     "data": {
      "text/plain": [
       "(['ぎゅうにく', 'じゃがいも', 'にんじん', 'たまねぎ'], ['さとう', 'しょうゆ', 'みりん'])"
      ]
     },
     "execution_count": 8,
     "metadata": {},
     "output_type": "execute_result"
    }
   ],
   "source": [
    "head,tail"
   ]
  },
  {
   "cell_type": "code",
   "execution_count": null,
   "metadata": {
    "collapsed": true
   },
   "outputs": [],
   "source": []
  }
 ],
 "metadata": {
  "kernelspec": {
   "display_name": "Python 3",
   "language": "python",
   "name": "python3"
  },
  "language_info": {
   "codemirror_mode": {
    "name": "ipython",
    "version": 3
   },
   "file_extension": ".py",
   "mimetype": "text/x-python",
   "name": "python",
   "nbconvert_exporter": "python",
   "pygments_lexer": "ipython3",
   "version": "3.5.2"
  }
 },
 "nbformat": 4,
 "nbformat_minor": 2
}
